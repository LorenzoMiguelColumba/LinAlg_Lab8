{
  "nbformat": 4,
  "nbformat_minor": 0,
  "metadata": {
    "colab": {
      "name": "LinAlg_LabReport8.ipynb",
      "provenance": [],
      "collapsed_sections": []
    },
    "kernelspec": {
      "name": "python3",
      "display_name": "Python 3"
    }
  },
  "cells": [
    {
      "cell_type": "code",
      "metadata": {
        "id": "z9uuOmwGe-Ki"
      },
      "source": [
        "import numpy as np\r\n",
        "import matplotlib.pyplot as plt\r\n",
        "%matplotlib inline"
      ],
      "execution_count": null,
      "outputs": []
    },
    {
      "cell_type": "markdown",
      "metadata": {
        "id": "yx7RVsOsYIHA"
      },
      "source": [
        "You’re going to the mall with your friends and you have 200 dollars to spend from your recent birthday money. You discover a store that has all jeans for 25 dollars and all dresses for 50 dollars. You really, really want to take home 6 items of clothing because you “need” that many new things. Wouldn’t it be clever to find out how many pairs of jeans and how many dresses you can buy so you use the whole 200 dollars (tax not included – your parents promised to pay the tax)?\r\n",
        "\r\n"
      ]
    },
    {
      "cell_type": "markdown",
      "metadata": {
        "id": "VTtLAATCYL8O"
      },
      "source": [
        ""
      ]
    },
    {
      "cell_type": "markdown",
      "metadata": {
        "id": "sqTmn3G6gSTq"
      },
      "source": [
        "$$  \\left\\{ \\begin{array}\\\\ j + d = 6\\\\ 25j + 50d = 200\\\\\r\n",
        "\\end{array} \\right. $$"
      ]
    },
    {
      "cell_type": "code",
      "metadata": {
        "colab": {
          "base_uri": "https://localhost:8080/"
        },
        "id": "yFVv_A9HgSw2",
        "outputId": "7020f2cf-6ef2-43c0-df21-a913d4e5d00a"
      },
      "source": [
        "X = np.array([\r\n",
        "    [1, 1],\r\n",
        "    [25, 50],\r\n",
        "\r\n",
        "  \r\n",
        "])\r\n",
        "Y = np.array([\r\n",
        "    [6],\r\n",
        "    [200]\r\n",
        "  \r\n",
        "  \r\n",
        "])\r\n",
        "print(X)\r\n",
        "print(X.shape)\r\n",
        "print(Y)\r\n",
        "print(Y.shape)\r\n"
      ],
      "execution_count": null,
      "outputs": [
        {
          "output_type": "stream",
          "text": [
            "[[ 1  1]\n",
            " [25 50]]\n",
            "(2, 2)\n",
            "[[  6]\n",
            " [200]]\n",
            "(2, 1)\n"
          ],
          "name": "stdout"
        }
      ]
    },
    {
      "cell_type": "code",
      "metadata": {
        "colab": {
          "base_uri": "https://localhost:8080/"
        },
        "id": "gjSZyEcgg0Vh",
        "outputId": "23764513-70ed-4a4a-949e-160408ca7794"
      },
      "source": [
        "X_inv = np.linalg.inv(X)\r\n",
        "X_inv\r\n"
      ],
      "execution_count": null,
      "outputs": [
        {
          "output_type": "execute_result",
          "data": {
            "text/plain": [
              "array([[ 2.  , -0.04],\n",
              "       [-1.  ,  0.04]])"
            ]
          },
          "metadata": {
            "tags": []
          },
          "execution_count": 38
        }
      ]
    },
    {
      "cell_type": "code",
      "metadata": {
        "colab": {
          "base_uri": "https://localhost:8080/"
        },
        "id": "uClE53ovhcvK",
        "outputId": "ea49b194-119f-4ff9-c1de-a8b72186c7d6"
      },
      "source": [
        "r = X_inv @ Y\r\n",
        "r"
      ],
      "execution_count": null,
      "outputs": [
        {
          "output_type": "execute_result",
          "data": {
            "text/plain": [
              "array([[4.],\n",
              "       [2.]])"
            ]
          },
          "metadata": {
            "tags": []
          },
          "execution_count": 39
        }
      ]
    },
    {
      "cell_type": "code",
      "metadata": {
        "colab": {
          "base_uri": "https://localhost:8080/"
        },
        "id": "tSSCekZxi-XN",
        "outputId": "81ee979a-ffbb-45ea-88e9-0f892ae9fdb8"
      },
      "source": [
        "Y_1 = X @ r\r\n",
        "np.array_equal(Y_1, Y)"
      ],
      "execution_count": null,
      "outputs": [
        {
          "output_type": "execute_result",
          "data": {
            "text/plain": [
              "True"
            ]
          },
          "metadata": {
            "tags": []
          },
          "execution_count": 40
        }
      ]
    },
    {
      "cell_type": "code",
      "metadata": {
        "colab": {
          "base_uri": "https://localhost:8080/"
        },
        "id": "tb8ZVSzTjL6U",
        "outputId": "50d6cdde-fbcd-4001-9407-6406ca3aee23"
      },
      "source": [
        "X_sol = np.linalg.solve(X, Y)\r\n",
        "X_sol"
      ],
      "execution_count": null,
      "outputs": [
        {
          "output_type": "execute_result",
          "data": {
            "text/plain": [
              "array([[4.],\n",
              "       [2.]])"
            ]
          },
          "metadata": {
            "tags": []
          },
          "execution_count": 41
        }
      ]
    },
    {
      "cell_type": "code",
      "metadata": {
        "id": "fJBiyPW8lKSv"
      },
      "source": [
        ""
      ],
      "execution_count": null,
      "outputs": []
    }
  ]
}